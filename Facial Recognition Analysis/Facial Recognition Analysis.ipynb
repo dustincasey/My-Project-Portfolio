{
 "cells": [
  {
   "cell_type": "code",
   "execution_count": 1,
   "metadata": {
    "collapsed": false
   },
   "outputs": [
    {
     "name": "stderr",
     "output_type": "stream",
     "text": [
      "C:\\Users\\Dustin\\Anaconda3\\lib\\site-packages\\sklearn\\cross_validation.py:44: DeprecationWarning: This module was deprecated in version 0.18 in favor of the model_selection module into which all the refactored classes and functions are moved. Also note that the interface of the new CV iterators are different from that of this module. This module will be removed in 0.20.\n",
      "  \"This module will be removed in 0.20.\", DeprecationWarning)\n"
     ]
    },
    {
     "name": "stdout",
     "output_type": "stream",
     "text": [
      "1217\n",
      "['Ariel Sharon' 'Colin Powell' 'Donald Rumsfeld' 'George W Bush'\n",
      " 'Gerhard Schroeder' 'Tony Blair']\n",
      "image:  [[ 126.33333588  133.33332825  108.66666412 ...,  100.          100.66666412\n",
      "    67.33333588]\n",
      " [ 108.33333588  120.66666412  114.66666412 ...,  100.33333588   96.\n",
      "    70.33333588]\n",
      " [  94.66666412  123.          127.         ...,   99.           91.33333588\n",
      "    64.33333588]\n",
      " ..., \n",
      " [  77.66666412  173.66667175  245.33332825 ...,    8.            6.            8.        ]\n",
      " [  81.33333588  179.33332825  247.66667175 ...,   17.            3.66666675\n",
      "     5.33333349]\n",
      " [  83.66666412  179.          247.66667175 ...,   30.33333397    2.\n",
      "     3.66666675]]\n"
     ]
    },
    {
     "data": {
      "image/png": "[encoded data removed]",
      "text/plain": [
       "<matplotlib.figure.Figure at 0x1fa63836470>"
      ]
     },
     "metadata": {},
     "output_type": "display_data"
    },
    {
     "name": "stdout",
     "output_type": "stream",
     "text": [
      "3\n",
      "George W Bush\n",
      "data:  [ 126.33333588  133.33332825  108.66666412 ...,   30.33333397    2.\n",
      "    3.66666675]\n",
      "data length:  2914\n"
     ]
    }
   ],
   "source": [
    "import matplotlib.pyplot as plt\n",
    "%matplotlib inline\n",
    "from sklearn.cross_validation import train_test_split\n",
    "from sklearn.datasets import fetch_lfw_people\n",
    "from sklearn.metrics import accuracy_score\n",
    "from sklearn.neural_network import MLPClassifier\n",
    "from sklearn import svm\n",
    "import numpy\n",
    "\n",
    "lfw_people = fetch_lfw_people(min_faces_per_person=70)\n",
    "print(len(lfw_people.images))\n",
    "print(lfw_people.target_names)\n",
    "\n",
    "image_num = 4 #try plugging in some other numbers too\n",
    "\n",
    "print(\"image: \",lfw_people.images[image_num])\n",
    "\n",
    "plt.imshow(lfw_people.images[image_num],cmap='gray')\n",
    "plt.show()\n",
    "\n",
    "img_target = lfw_people.target[image_num]\n",
    "print(img_target)\n",
    "print(lfw_people.target_names[img_target])\n",
    "\n",
    "print(\"data: \", lfw_people.data[image_num])\n",
    "print(\"data length: \",len(lfw_people.data[image_num]))\n"
   ]
  },
  {
   "cell_type": "code",
   "execution_count": 26,
   "metadata": {
    "collapsed": false
   },
   "outputs": [
    {
     "name": "stdout",
     "output_type": "stream",
     "text": [
      "MLPC Accuracy:  0.147540983607\n",
      "Linear Accuracy:  0.823770491803\n",
      "RBF Accuracy:  0.372950819672\n",
      "Sigmoid Accuracy:  0.372950819672\n",
      "Poly Accuracy:  0.83606557377\n"
     ]
    }
   ],
   "source": [
    "(train_data, test_data, train_target, test_target)= train_test_split(lfw_people.data, lfw_people.target,test_size = 0.2)\n",
    "\n",
    "mlp_classifier = MLPClassifier()\n",
    "mlp_classifier.fit(train_data,train_target)\n",
    "predictions = mlp_classifier.predict(test_data)\n",
    "print(\"MLPC Accuracy: \",accuracy_score(predictions,test_target))\n",
    "\n",
    "sv_classifier = svm.SVC(kernel='linear')\n",
    "sv_classifier.fit(train_data,train_target)\n",
    "predictions = sv_classifier.predict(test_data)\n",
    "print(\"Linear Accuracy: \",accuracy_score(predictions,test_target))\n",
    "\n",
    "sv_classifier = svm.SVC(kernel='rbf')\n",
    "sv_classifier.fit(train_data,train_target)\n",
    "predictions = sv_classifier.predict(test_data)\n",
    "print(\"RBF Accuracy: \",accuracy_score(predictions,test_target))\n",
    "\n",
    "sv_classifier = svm.SVC(kernel='sigmoid')\n",
    "sv_classifier.fit(train_data,train_target)\n",
    "predictions = sv_classifier.predict(test_data)\n",
    "print(\"Sigmoid Accuracy: \",accuracy_score(predictions,test_target))\n",
    "\n",
    "sv_classifier = svm.SVC(kernel='poly')\n",
    "sv_classifier.fit(train_data,train_target)\n",
    "predictions = sv_classifier.predict(test_data)\n",
    "print(\"Poly Accuracy: \",accuracy_score(predictions,test_target))\n"
   ]
  },
  {
   "cell_type": "code",
   "execution_count": 27,
   "metadata": {
    "collapsed": false
   },
   "outputs": [],
   "source": [
    "# for i in range(len(predictions)):\n",
    "#     plt.imshow(test_data[i].reshape(62,47),cmap='gray')\n",
    "#     plt.show()\n",
    "#     print(\"predicted: \",\\\n",
    "#     lfw_people.target_names[predictions[i]],\\\n",
    "#     \" actual: \", lfw_people.target_names[test_target[i]])"
   ]
  },
  {
   "cell_type": "code",
   "execution_count": 28,
   "metadata": {
    "collapsed": false
   },
   "outputs": [
    {
     "name": "stdout",
     "output_type": "stream",
     "text": [
      "Linear Accuracy:  0.75\n",
      "RBF Accuracy:  0.815573770492\n",
      "Sigmoid Accuracy:  0.790983606557\n",
      "Poly Accuracy:  0.377049180328\n"
     ]
    }
   ],
   "source": [
    "from sklearn.decomposition import PCA\n",
    "\n",
    "pca = PCA(n_components=100, whiten=True)\n",
    "pca.fit(train_data)\n",
    "transformed_train_data = pca.transform(train_data)\n",
    "transformed_test_data = pca.transform(test_data)\n",
    "\n",
    "svc = svm.SVC(kernel='linear')\n",
    "svc.fit(transformed_train_data,train_target)\n",
    "predictions = svc.predict(transformed_test_data)\n",
    "print(\"Linear Accuracy: \",accuracy_score(test_target, predictions))\n",
    "\n",
    "svc = svm.SVC(kernel='rbf')\n",
    "svc.fit(transformed_train_data,train_target)\n",
    "predictions = svc.predict(transformed_test_data)\n",
    "print(\"RBF Accuracy: \",accuracy_score(test_target, predictions))\n",
    "\n",
    "svc = svm.SVC(kernel='sigmoid')\n",
    "svc.fit(transformed_train_data,train_target)\n",
    "predictions = svc.predict(transformed_test_data)\n",
    "print(\"Sigmoid Accuracy: \",accuracy_score(test_target, predictions))\n",
    "\n",
    "svc = svm.SVC(kernel='poly')\n",
    "svc.fit(transformed_train_data,train_target)\n",
    "predictions = svc.predict(transformed_test_data)\n",
    "print(\"Poly Accuracy: \",accuracy_score(test_target, predictions))"
   ]
  },
  {
   "cell_type": "code",
   "execution_count": 29,
   "metadata": {
    "collapsed": false
   },
   "outputs": [
    {
     "name": "stdout",
     "output_type": "stream",
     "text": [
      "C:  10\n",
      "Gamma:  0.01\n",
      "Degree:  3\n",
      "Kernel:  rbf\n",
      "0.856557377049\n"
     ]
    }
   ],
   "source": [
    "from sklearn import grid_search\n",
    "\n",
    "param_1 = {'C':[.00001,.0001,.001,.01,.05,1,10,50,100],'kernel': ['linear']}\n",
    "param_2 = {'C':[.00001,.0001,.001,.01,.05,1,10,50,100],'gamma': [100,10,1,.01,.001,.0001,.00001,.000001,.0000001],'degree': [1,2,3,4,5],'kernel': ['poly']}\n",
    "param_3 = {'C':[.00001,.0001,.001,.01,.05,1,10,50,100],'gamma': [100,10,1,.01,.001,.0001,.00001,.000001,.0000001],'kernel': ['rbf']}\n",
    "param_4 = {'C':[.00001,.0001,.001,.01,.05,1,10,50,100],'gamma': [100,10,1,.01,.001,.0001,.00001,.000001,.0000001],'kernel': ['sigmoid']}\n",
    "\n",
    "parameters = [param_1,param_2,param_3,param_4]\n",
    "\n",
    "svc_grid_search = grid_search.GridSearchCV(svm.SVC(), parameters)\n",
    "\n",
    "svc_grid_search.fit(transformed_train_data,train_target)\n",
    "\n",
    "print(\"C: \",svc_grid_search.best_estimator_.C)\n",
    "print(\"Gamma: \",svc_grid_search.best_estimator_.gamma)\n",
    "print(\"Degree: \",svc_grid_search.best_estimator_.degree)\n",
    "print(\"Kernel: \",svc_grid_search.best_estimator_.kernel)\n",
    "\n",
    "predictions = svc_grid_search.predict(transformed_test_data)\n",
    "print(accuracy_score(test_target, predictions))\n"
   ]
  },
  {
   "cell_type": "code",
   "execution_count": null,
   "metadata": {
    "collapsed": true
   },
   "outputs": [],
   "source": []
  }
 ],
 "metadata": {
  "kernelspec": {
   "display_name": "Python [Root]",
   "language": "python",
   "name": "Python [Root]"
  },
  "language_info": {
   "codemirror_mode": {
    "name": "ipython",
    "version": 3
   },
   "file_extension": ".py",
   "mimetype": "text/x-python",
   "name": "python",
   "nbconvert_exporter": "python",
   "pygments_lexer": "ipython3",
   "version": "3.5.2"
  }
 },
 "nbformat": 4,
 "nbformat_minor": 0
}
